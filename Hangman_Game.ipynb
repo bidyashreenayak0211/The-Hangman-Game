{
  "nbformat": 4,
  "nbformat_minor": 0,
  "metadata": {
    "colab": {
      "provenance": [],
      "authorship_tag": "ABX9TyMUip9GH80+mP0vOD4w4od1",
      "include_colab_link": true
    },
    "kernelspec": {
      "name": "python3",
      "display_name": "Python 3"
    },
    "language_info": {
      "name": "python"
    }
  },
  "cells": [
    {
      "cell_type": "markdown",
      "metadata": {
        "id": "view-in-github",
        "colab_type": "text"
      },
      "source": [
        "<a href=\"https://colab.research.google.com/github/bidyashreenayak0211/The-Hangman-Game/blob/main/Hangman_Game.ipynb\" target=\"_parent\"><img src=\"https://colab.research.google.com/assets/colab-badge.svg\" alt=\"Open In Colab\"/></a>"
      ]
    },
    {
      "cell_type": "code",
      "execution_count": 1,
      "metadata": {
        "id": "6k_7O6zwAjJL"
      },
      "outputs": [],
      "source": [
        "import random"
      ]
    },
    {
      "cell_type": "code",
      "source": [
        "HANGMAN_PICS = ['''\n",
        "+---+\n",
        "         |\n",
        "         |\n",
        "         |\n",
        "        ===''', '''\n",
        "     +---+\n",
        "     O   |\n",
        "         |\n",
        "         |\n",
        "        ===''', '''\n",
        "     +---+\n",
        "     O   |\n",
        "     |   |\n",
        "         |\n",
        "        ===''', '''\n",
        "     +---+\n",
        "     O   |\n",
        "    /|   |\n",
        "         |\n",
        "        ===''', '''\n",
        "     +---+\n",
        "     O   |\n",
        "    /|\\  |\n",
        "         |\n",
        "        ===''', '''\n",
        "     +---+\n",
        "     O   |\n",
        "    /|\\  |\n",
        "    /    |\n",
        "        ===''', '''\n",
        "     +---+\n",
        "     O   |\n",
        "    /|\\  |\n",
        "    / \\  |\n",
        "        ===''']\n",
        "\n"
      ],
      "metadata": {
        "id": "03iVBybaBjr2"
      },
      "execution_count": 3,
      "outputs": []
    },
    {
      "cell_type": "code",
      "source": [
        "words = 'ant baboon badger bat bear beaver camel cat clam cobra cougar coyote crow deer dog donkey duck eagle ferret fox frog goat goose hawk lion lizard llama mole monkey moose mouse mule newt otter owl panda parrot pigeon python rabbit ram rat raven rhino salmon seal shark sheep skunk sloth snake spider stork swan tiger toad trout turkey turtle weasel whale wolf wombat zebra'.split()\n"
      ],
      "metadata": {
        "id": "ob7YztM4B4b4"
      },
      "execution_count": 4,
      "outputs": []
    },
    {
      "cell_type": "code",
      "source": [
        "def getRandomWord(wordList):\n",
        "  # This function returns a random string from the passed list of strings.\n",
        "  wordIndex = random.randint(0, len(wordList) - 1)\n",
        "  return wordList[wordIndex]"
      ],
      "metadata": {
        "id": "-cHHjT1qCCAH"
      },
      "execution_count": 5,
      "outputs": []
    },
    {
      "cell_type": "code",
      "source": [
        "def displayBoard(missedLetters, correctLetters, secretWord):\n",
        "  print(HANGMAN_PICS[len(missedLetters)])\n",
        "  print()\n",
        "\n",
        "  print('Missed Letters:', end =' ')\n",
        "  for letter in missedLetters:\n",
        "    print(letter, end=' ')\n",
        "  print()\n",
        "\n",
        "  blanks = '_' * len(secretWord)\n",
        "\n",
        "  for i in range (len(secretWord)):\n",
        "    #Replace blanks with correctly guessed letters\n",
        "    if secretWord[i] in correctLetters:\n",
        "      blanks = blanks[:i] + secretWord[i] + blanks[i+1:]\n",
        "\n",
        "  for letter in blanks:\n",
        "    print(letter, end = ' ')\n",
        "  print()"
      ],
      "metadata": {
        "id": "zbVU62V-Cctr"
      },
      "execution_count": 7,
      "outputs": []
    },
    {
      "cell_type": "code",
      "source": [
        "def getGuess(alreadyGuessed):\n",
        "  #Returns the letter the player entered. This function makes sure the player entered a single letter and not something else.\n",
        "  while True:\n",
        "    print('Guess a letter.')\n",
        "    guess = input()\n",
        "    guess = guess.lower()\n",
        "    if len(guess) != 1:\n",
        "      print('Please enter a single letter.')\n",
        "    elif guess in alreadyGuessed:\n",
        "      print('You have already guessed that letter. Choose again.')\n",
        "    elif guess not in 'abcdefghijklmnopqrstuvwxyz':\n",
        "      print('Please enter a LETTER.')\n",
        "    else:\n",
        "      return guess"
      ],
      "metadata": {
        "id": "I7PCPx8JCwGN"
      },
      "execution_count": 9,
      "outputs": []
    },
    {
      "cell_type": "code",
      "source": [
        "def playAgain():\n",
        "  # This function returns True ifthe player wants to play again; otherwise, it returns False.\n",
        "  print('Do you want to play again? (yes or no)')\n",
        "  return input().lower().startswith('y')\n"
      ],
      "metadata": {
        "id": "scD7BdTnFUu4"
      },
      "execution_count": 10,
      "outputs": []
    },
    {
      "cell_type": "code",
      "source": [
        "print('T H E  H A N G M A N  G A M E')\n",
        "missedLetters = ''\n",
        "correctLetters = ''\n",
        "secretWord = getRandomWord(words)\n",
        "gameIsDone = False\n",
        "\n",
        "while True:\n",
        "  displayBoard(missedLetters, correctLetters, secretWord)\n",
        "\n",
        "  # Let the player enter a letter.\n",
        "  guess = getGuess(missedLetters + correctLetters)\n",
        "\n",
        "  if guess in secretWord:\n",
        "    correctLetters = correctLetters + guess\n",
        "\n",
        "    # Check if the player has won.\n",
        "    foundAllLeters = True\n",
        "    for i in range(len(secretWord)):\n",
        "      if secretWord[i] not in correctLetters:\n",
        "        foundAllLeters = False\n",
        "        break\n",
        "    if foundAllLeters:\n",
        "      print('Yes! The secret word is \"' + secretWord + '\"! You have won!')\n",
        "      gameIsDone = True\n",
        "  else:\n",
        "    missedLetters = missedLetters + guess\n",
        "\n",
        "    # Check if player has guessed too many times and lost.\n",
        "    if len(missedLetters) == len(HANGMAN_PICS) -1:\n",
        "      displayBoard(missedLetters, correctLetters, secretWord)\n",
        "      print('You have run out of guesses!\\nAfter ' +\n",
        "            str(len(missedLetters)) + ' missed guesses and ' +\n",
        "            str(len(correctLetters)) + 'correct guess, the word was \"' + secretWord +'\"')\n",
        "      gameIsDone = True\n",
        "\n",
        "    #Ask the player if they want to play again (but only if the game is done).\n",
        "    if gameIsDone:\n",
        "      if playAgain():\n",
        "        missedLetters =  ''\n",
        "        correctLetters = ''\n",
        "        gameIsDone = False\n",
        "        secretWord = getRandomWord(words)\n",
        "      else:\n",
        "        break"
      ],
      "metadata": {
        "colab": {
          "base_uri": "https://localhost:8080/"
        },
        "id": "o7Wof8vuGIYc",
        "outputId": "26e027d5-4b98-4da5-a099-fa600d8f8e8d"
      },
      "execution_count": null,
      "outputs": [
        {
          "output_type": "stream",
          "name": "stdout",
          "text": [
            "T H E  H A N G M A N  G A M E\n",
            "\n",
            "+---+\n",
            "         |\n",
            "         |\n",
            "         |\n",
            "        ===\n",
            "\n",
            "Missed Letters: \n",
            "_ _ _ \n",
            "Guess a letter.\n",
            "t\n",
            "\n",
            "+---+\n",
            "         |\n",
            "         |\n",
            "         |\n",
            "        ===\n",
            "\n",
            "Missed Letters: \n",
            "_ _ t \n",
            "Guess a letter.\n",
            "a\n",
            "\n",
            "+---+\n",
            "         |\n",
            "         |\n",
            "         |\n",
            "        ===\n",
            "\n",
            "Missed Letters: \n",
            "_ a t \n",
            "Guess a letter.\n",
            "c\n",
            "\n",
            "     +---+\n",
            "     O   |\n",
            "         |\n",
            "         |\n",
            "        ===\n",
            "\n",
            "Missed Letters: c \n",
            "_ a t \n",
            "Guess a letter.\n",
            "b\n",
            "Yes! The secret word is \"bat\"! You have won!\n",
            "\n",
            "     +---+\n",
            "     O   |\n",
            "         |\n",
            "         |\n",
            "        ===\n",
            "\n",
            "Missed Letters: c \n",
            "b a t \n",
            "Guess a letter.\n"
          ]
        }
      ]
    }
  ]
}